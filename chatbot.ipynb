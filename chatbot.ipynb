{
  "nbformat": 4,
  "nbformat_minor": 0,
  "metadata": {
    "colab": {
      "name": "518H0126_Ex1.ipynb",
      "provenance": []
    },
    "kernelspec": {
      "name": "python3",
      "display_name": "Python 3"
    },
    "language_info": {
      "name": "python"
    }
  },
  "cells": [
    {
      "cell_type": "code",
      "source": [
        "!pip install pyvi"
      ],
      "metadata": {
        "colab": {
          "base_uri": "https://localhost:8080/"
        },
        "id": "MrZ8hnt3lKZI",
        "outputId": "0a00f59c-85ca-4324-e9b4-1df1c60970e1"
      },
      "execution_count": 1,
      "outputs": [
        {
          "output_type": "stream",
          "name": "stdout",
          "text": [
            "Looking in indexes: https://pypi.org/simple, https://us-python.pkg.dev/colab-wheels/public/simple/\n",
            "Requirement already satisfied: pyvi in /usr/local/lib/python3.7/dist-packages (0.1.1)\n",
            "Requirement already satisfied: scikit-learn in /usr/local/lib/python3.7/dist-packages (from pyvi) (1.0.2)\n",
            "Requirement already satisfied: sklearn-crfsuite in /usr/local/lib/python3.7/dist-packages (from pyvi) (0.3.6)\n",
            "Requirement already satisfied: scipy>=1.1.0 in /usr/local/lib/python3.7/dist-packages (from scikit-learn->pyvi) (1.4.1)\n",
            "Requirement already satisfied: joblib>=0.11 in /usr/local/lib/python3.7/dist-packages (from scikit-learn->pyvi) (1.1.0)\n",
            "Requirement already satisfied: threadpoolctl>=2.0.0 in /usr/local/lib/python3.7/dist-packages (from scikit-learn->pyvi) (3.1.0)\n",
            "Requirement already satisfied: numpy>=1.14.6 in /usr/local/lib/python3.7/dist-packages (from scikit-learn->pyvi) (1.21.6)\n",
            "Requirement already satisfied: six in /usr/local/lib/python3.7/dist-packages (from sklearn-crfsuite->pyvi) (1.15.0)\n",
            "Requirement already satisfied: tabulate in /usr/local/lib/python3.7/dist-packages (from sklearn-crfsuite->pyvi) (0.8.9)\n",
            "Requirement already satisfied: python-crfsuite>=0.8.3 in /usr/local/lib/python3.7/dist-packages (from sklearn-crfsuite->pyvi) (0.9.8)\n",
            "Requirement already satisfied: tqdm>=2.0 in /usr/local/lib/python3.7/dist-packages (from sklearn-crfsuite->pyvi) (4.64.0)\n"
          ]
        }
      ]
    },
    {
      "cell_type": "code",
      "execution_count": 18,
      "metadata": {
        "id": "KCcZLmR1lDr2"
      },
      "outputs": [],
      "source": [
        "import string\n",
        "import warnings\n",
        "import numpy as np\n",
        "import pandas as pd\n",
        "from gensim.models import Word2Vec\n",
        "from scipy.spatial import distance\n",
        "from sklearn.pipeline import Pipeline\n",
        "from nltk.tokenize import word_tokenize\n",
        "import nltk.translate.bleu_score as bleu_score\n",
        "from pyvi import ViTokenizer, ViPosTagger\n",
        "from sklearn.tree import DecisionTreeClassifier\n",
        "from sklearn.feature_extraction.text import CountVectorizer\n",
        "from sklearn.feature_extraction.text import TfidfTransformer\n",
        "\n",
        "warnings.filterwarnings('ignore')"
      ]
    },
    {
      "cell_type": "code",
      "source": [
        "df = pd.read_csv('chatbot.csv', encoding='utf-8')\n",
        "df.dropna(inplace=True)\n",
        "df.reset_index(drop=True, inplace=True)\n",
        "df.head()"
      ],
      "metadata": {
        "colab": {
          "base_uri": "https://localhost:8080/",
          "height": 206
        },
        "id": "_rLSF_ArlPaP",
        "outputId": "02b63537-ff36-4e59-a1a8-201935827b97"
      },
      "execution_count": 3,
      "outputs": [
        {
          "output_type": "execute_result",
          "data": {
            "text/plain": [
              "   Unnamed: 0                             user_a  \\\n",
              "0           0                Thích mẫu người nào   \n",
              "1           1                  Có crush ai không   \n",
              "2           2           Tại sao lại thích bạn dó   \n",
              "3           3            Có hay nói chuyện không   \n",
              "4           4  Bạn kia có bắt chuyện trước không   \n",
              "\n",
              "                             user_b  \n",
              "0      Dễ thương, tóc dài, da trắng  \n",
              "1                 Có 1 bạn cùng lớp  \n",
              "2  Vì đáp ứng những yêu cầu của tao  \n",
              "3            Hay nhắn tin messenger  \n",
              "4                        Có đôi khi  "
            ],
            "text/html": [
              "\n",
              "  <div id=\"df-5c12ae3e-4983-4f20-b45f-15afd691eb54\">\n",
              "    <div class=\"colab-df-container\">\n",
              "      <div>\n",
              "<style scoped>\n",
              "    .dataframe tbody tr th:only-of-type {\n",
              "        vertical-align: middle;\n",
              "    }\n",
              "\n",
              "    .dataframe tbody tr th {\n",
              "        vertical-align: top;\n",
              "    }\n",
              "\n",
              "    .dataframe thead th {\n",
              "        text-align: right;\n",
              "    }\n",
              "</style>\n",
              "<table border=\"1\" class=\"dataframe\">\n",
              "  <thead>\n",
              "    <tr style=\"text-align: right;\">\n",
              "      <th></th>\n",
              "      <th>Unnamed: 0</th>\n",
              "      <th>user_a</th>\n",
              "      <th>user_b</th>\n",
              "    </tr>\n",
              "  </thead>\n",
              "  <tbody>\n",
              "    <tr>\n",
              "      <th>0</th>\n",
              "      <td>0</td>\n",
              "      <td>Thích mẫu người nào</td>\n",
              "      <td>Dễ thương, tóc dài, da trắng</td>\n",
              "    </tr>\n",
              "    <tr>\n",
              "      <th>1</th>\n",
              "      <td>1</td>\n",
              "      <td>Có crush ai không</td>\n",
              "      <td>Có 1 bạn cùng lớp</td>\n",
              "    </tr>\n",
              "    <tr>\n",
              "      <th>2</th>\n",
              "      <td>2</td>\n",
              "      <td>Tại sao lại thích bạn dó</td>\n",
              "      <td>Vì đáp ứng những yêu cầu của tao</td>\n",
              "    </tr>\n",
              "    <tr>\n",
              "      <th>3</th>\n",
              "      <td>3</td>\n",
              "      <td>Có hay nói chuyện không</td>\n",
              "      <td>Hay nhắn tin messenger</td>\n",
              "    </tr>\n",
              "    <tr>\n",
              "      <th>4</th>\n",
              "      <td>4</td>\n",
              "      <td>Bạn kia có bắt chuyện trước không</td>\n",
              "      <td>Có đôi khi</td>\n",
              "    </tr>\n",
              "  </tbody>\n",
              "</table>\n",
              "</div>\n",
              "      <button class=\"colab-df-convert\" onclick=\"convertToInteractive('df-5c12ae3e-4983-4f20-b45f-15afd691eb54')\"\n",
              "              title=\"Convert this dataframe to an interactive table.\"\n",
              "              style=\"display:none;\">\n",
              "        \n",
              "  <svg xmlns=\"http://www.w3.org/2000/svg\" height=\"24px\"viewBox=\"0 0 24 24\"\n",
              "       width=\"24px\">\n",
              "    <path d=\"M0 0h24v24H0V0z\" fill=\"none\"/>\n",
              "    <path d=\"M18.56 5.44l.94 2.06.94-2.06 2.06-.94-2.06-.94-.94-2.06-.94 2.06-2.06.94zm-11 1L8.5 8.5l.94-2.06 2.06-.94-2.06-.94L8.5 2.5l-.94 2.06-2.06.94zm10 10l.94 2.06.94-2.06 2.06-.94-2.06-.94-.94-2.06-.94 2.06-2.06.94z\"/><path d=\"M17.41 7.96l-1.37-1.37c-.4-.4-.92-.59-1.43-.59-.52 0-1.04.2-1.43.59L10.3 9.45l-7.72 7.72c-.78.78-.78 2.05 0 2.83L4 21.41c.39.39.9.59 1.41.59.51 0 1.02-.2 1.41-.59l7.78-7.78 2.81-2.81c.8-.78.8-2.07 0-2.86zM5.41 20L4 18.59l7.72-7.72 1.47 1.35L5.41 20z\"/>\n",
              "  </svg>\n",
              "      </button>\n",
              "      \n",
              "  <style>\n",
              "    .colab-df-container {\n",
              "      display:flex;\n",
              "      flex-wrap:wrap;\n",
              "      gap: 12px;\n",
              "    }\n",
              "\n",
              "    .colab-df-convert {\n",
              "      background-color: #E8F0FE;\n",
              "      border: none;\n",
              "      border-radius: 50%;\n",
              "      cursor: pointer;\n",
              "      display: none;\n",
              "      fill: #1967D2;\n",
              "      height: 32px;\n",
              "      padding: 0 0 0 0;\n",
              "      width: 32px;\n",
              "    }\n",
              "\n",
              "    .colab-df-convert:hover {\n",
              "      background-color: #E2EBFA;\n",
              "      box-shadow: 0px 1px 2px rgba(60, 64, 67, 0.3), 0px 1px 3px 1px rgba(60, 64, 67, 0.15);\n",
              "      fill: #174EA6;\n",
              "    }\n",
              "\n",
              "    [theme=dark] .colab-df-convert {\n",
              "      background-color: #3B4455;\n",
              "      fill: #D2E3FC;\n",
              "    }\n",
              "\n",
              "    [theme=dark] .colab-df-convert:hover {\n",
              "      background-color: #434B5C;\n",
              "      box-shadow: 0px 1px 3px 1px rgba(0, 0, 0, 0.15);\n",
              "      filter: drop-shadow(0px 1px 2px rgba(0, 0, 0, 0.3));\n",
              "      fill: #FFFFFF;\n",
              "    }\n",
              "  </style>\n",
              "\n",
              "      <script>\n",
              "        const buttonEl =\n",
              "          document.querySelector('#df-5c12ae3e-4983-4f20-b45f-15afd691eb54 button.colab-df-convert');\n",
              "        buttonEl.style.display =\n",
              "          google.colab.kernel.accessAllowed ? 'block' : 'none';\n",
              "\n",
              "        async function convertToInteractive(key) {\n",
              "          const element = document.querySelector('#df-5c12ae3e-4983-4f20-b45f-15afd691eb54');\n",
              "          const dataTable =\n",
              "            await google.colab.kernel.invokeFunction('convertToInteractive',\n",
              "                                                     [key], {});\n",
              "          if (!dataTable) return;\n",
              "\n",
              "          const docLinkHtml = 'Like what you see? Visit the ' +\n",
              "            '<a target=\"_blank\" href=https://colab.research.google.com/notebooks/data_table.ipynb>data table notebook</a>'\n",
              "            + ' to learn more about interactive tables.';\n",
              "          element.innerHTML = '';\n",
              "          dataTable['output_type'] = 'display_data';\n",
              "          await google.colab.output.renderOutput(dataTable, element);\n",
              "          const docLink = document.createElement('div');\n",
              "          docLink.innerHTML = docLinkHtml;\n",
              "          element.appendChild(docLink);\n",
              "        }\n",
              "      </script>\n",
              "    </div>\n",
              "  </div>\n",
              "  "
            ]
          },
          "metadata": {},
          "execution_count": 3
        }
      ]
    },
    {
      "cell_type": "code",
      "source": [
        "def sentance(x):\n",
        "  return ' '.join([a for a in (''.join([a for a in x if a not in string.punctuation])).lower().split()])\n",
        "\n",
        "def highestMatch_BleuScore(a):\n",
        "  temp = {}\n",
        "  for i in range(len(df[\"user_a\"])):\n",
        "    #print(df[\"user_b\"][i])\n",
        "    b = [sentance(a).split()]\n",
        "    c = sentance(df[\"user_a\"][i]).split()\n",
        "    temp.update({bleu_score.sentence_bleu(b,c): df[\"user_b\"][i]})\n",
        "    #temp([bleu_score.sentence_bleu(sentance(a), sentance(data))],[sentance(data)])\n",
        "  \n",
        "  temp = sorted(temp.items(), key=lambda item: item[0], reverse=True)\n",
        "  #print(temp)\n",
        "  return temp\n",
        "\n",
        "def bleuScore(a):\n",
        "  a = a.lower()\n",
        "  result = highestMatch_BleuScore(a)[0][1]\n",
        "  return result"
      ],
      "metadata": {
        "id": "T3Qn94GAnJNt"
      },
      "execution_count": 19,
      "outputs": []
    },
    {
      "cell_type": "code",
      "source": [
        "print(bleuScore('bạn xem phim ở nhà hay ra rạp ?'))\n",
        "print(bleuScore('trường đó ở đâu?'))\n",
        "print(bleuScore('tên bạn là gì'))\n",
        "print(bleuScore('quê bạn ở đâu?'))\n",
        "print(bleuScore('bạn có chơi game không?'))\n",
        "print(bleuScore('bạn là sinh viên năm mấy ?'))\n",
        "print(bleuScore('bạn đã đi làm chưa?'))\n",
        "print(bleuScore('bạn hay đi chơi ở đâu?'))"
      ],
      "metadata": {
        "colab": {
          "base_uri": "https://localhost:8080/"
        },
        "id": "PQ3qw_oPnOf_",
        "outputId": "7386b753-c020-42b0-a162-a096b9f886cc"
      },
      "execution_count": 20,
      "outputs": [
        {
          "output_type": "stream",
          "name": "stdout",
          "text": [
            "CGV , Galaxy ...\n",
            "trường đó ở Sài Gòn\n",
            "Lợi\n",
            "ở vĩnh long\n",
            "có\n",
            "giống mày\n",
            "Rồi\n",
            "đi coi phim\n"
          ]
        }
      ]
    },
    {
      "cell_type": "code",
      "source": [
        "sents=[]\n",
        "for i in range(len(df[\"user_a\"])):\n",
        "  tokens = ViTokenizer.tokenize(df[\"user_a\"][i])\n",
        "  sents.append(tokens)\n",
        "\n",
        "modelw2v = Word2Vec(sentences=sents, size=100, window=5, \n",
        "                    sg=1, min_count=2)"
      ],
      "metadata": {
        "id": "0097sPtoD-rA"
      },
      "execution_count": 27,
      "outputs": []
    },
    {
      "cell_type": "code",
      "source": [
        "def avg_sentence_vector(words, model, num_features, index2word_set):\n",
        "  featureVec = np.zeros((num_features,), dtype=\"float32\")\n",
        "  nwords = 0\n",
        "  \n",
        "  for word in words:\n",
        "    if word in index2word_set:\n",
        "      nwords = nwords+1\n",
        "      featureVec = np.add(featureVec, model.wv[word])\n",
        "\n",
        "  if nwords>0:\n",
        "    featureVec = np.divide(featureVec, nwords)\n",
        "  return featureVec"
      ],
      "metadata": {
        "id": "1uVfPOLREA1S"
      },
      "execution_count": 28,
      "outputs": []
    },
    {
      "cell_type": "code",
      "source": [
        "def W2V(s):\n",
        "  sentence_1_avg_vector = avg_sentence_vector(s, model=modelw2v, num_features=100, index2word_set= modelw2v.wv.index2word)\n",
        "  #print(sentence_1_avg_vector)\n",
        "  max_ans=1\n",
        "  for sentence_2 in df[\"user_a\"]:\n",
        "    #print(sentence_2)\n",
        "    sentence_2_avg_vector = avg_sentence_vector(sentence_2, model=modelw2v, num_features=100, index2word_set= modelw2v.wv.index2word)\n",
        "\n",
        "    values =  distance.euclidean(sentence_1_avg_vector,sentence_2_avg_vector)\n",
        "    #print(\"values\",values)\n",
        "    if(values<max_ans):\n",
        "      max_ans=values\n",
        "      #print(\"values\",values)\n",
        "      #print(\"sentence_2\",sentence_2)\n",
        "      result = df.loc[df[\"user_a\"] == sentence_2][\"user_b\"]\n",
        "      result = result.iloc[0]\n",
        "  return result"
      ],
      "metadata": {
        "id": "VZHFKRCHJ8Qk"
      },
      "execution_count": 50,
      "outputs": []
    },
    {
      "cell_type": "code",
      "source": [
        "print(W2V('bạn xem phim ở nhà hay ra rạp ?'))\n",
        "print(W2V('trường đó ở đâu?'))\n",
        "print(W2V('tên bạn là gì'))\n",
        "print(W2V('quê bạn ở đâu?'))\n",
        "print(W2V('bạn có chơi game không?'))\n",
        "print(W2V('bạn là sinh viên năm mấy ?'))\n",
        "print(W2V('bạn đã đi làm chưa?'))\n",
        "print(W2V('bạn hay đi chơi ở đâu?'))"
      ],
      "metadata": {
        "colab": {
          "base_uri": "https://localhost:8080/"
        },
        "id": "LrkO7fE-Fob3",
        "outputId": "1bdada29-5acf-4492-dfba-35e89b3c539c"
      },
      "execution_count": 52,
      "outputs": [
        {
          "output_type": "stream",
          "name": "stdout",
          "text": [
            "nhà\n",
            "trường đó ở Sài Gòn\n",
            "Lợi\n",
            "hưng yên\n",
            "Có nhé\n",
            "Mình sinh viên năm 3\n",
            "Rồi\n",
            "Bà Nà Hill\n"
          ]
        }
      ]
    }
  ]
}